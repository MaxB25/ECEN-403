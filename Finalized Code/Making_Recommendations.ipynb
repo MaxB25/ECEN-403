{
 "cells": [
  {
   "cell_type": "code",
   "execution_count": 1,
   "metadata": {},
   "outputs": [],
   "source": [
    "from gensim.models.doc2vec import Doc2Vec\n",
    "import pytds"
   ]
  },
  {
   "cell_type": "code",
   "execution_count": 5,
   "metadata": {},
   "outputs": [],
   "source": [
    "#Defining a struct for Position\n",
    "class Position:\n",
    "    def __init__(self):\n",
    "        self.Pros = [] #List of skills we want from the student\n",
    "        self.Cons = [] #List of Skills we don't want from the student"
   ]
  },
  {
   "cell_type": "code",
   "execution_count": null,
   "metadata": {},
   "outputs": [],
   "source": [
    "#Defining a class for recommended Students\n",
    "class Recommendations:\n",
    "    def __init__(self):\n",
    "        self.Recomendations = [] #List of recommended students for a position"
   ]
  },
  {
   "cell_type": "code",
   "execution_count": null,
   "metadata": {},
   "outputs": [],
   "source": [
    "#Defining a struct for Projects\n",
    "class Projects:\n",
    "    def __init__(self):\n",
    "        self.Positions = [] #List of all Positions for a project\n",
    "        self.Recomm_Students = [] #List of recommended studetns"
   ]
  },
  {
   "cell_type": "code",
   "execution_count": null,
   "metadata": {},
   "outputs": [],
   "source": [
    "#Defining a struct for Students\n",
    "class Student:\n",
    "    def __init__(self):\n",
    "        self.ID = 0\n",
    "        self.Resume = \"\""
   ]
  },
  {
   "cell_type": "code",
   "execution_count": 2,
   "metadata": {},
   "outputs": [
    {
     "name": "stdout",
     "output_type": "stream",
     "text": [
      " is working\n"
     ]
    }
   ],
   "source": [
    "connect_string = \"\"\n",
    "try:\n",
    "    con = pytds.connect(server = '2605:ad80:30:5058:84ea:3de3:39a1:f11', database = 'TBDraft', user = 'admin1', password='TBuilder')\n",
    "    cursor = con.cursor()\n",
    "    print(\"{c} is working\".format(c=connect_string))\n",
    "except pytds.Error as ex:\n",
    "    print(\"{c} is not working\".format(c=connect_string))"
   ]
  },
  {
   "cell_type": "code",
   "execution_count": 3,
   "metadata": {},
   "outputs": [],
   "source": [
    "con.close()"
   ]
  }
 ],
 "metadata": {
  "interpreter": {
   "hash": "69653a312dbe931d74f7dcdd7e6244916ba6f541c5453c763d9189f9df467eeb"
  },
  "kernelspec": {
   "display_name": "Python 3.8.8 64-bit ('base': conda)",
   "language": "python",
   "name": "python3"
  },
  "language_info": {
   "codemirror_mode": {
    "name": "ipython",
    "version": 3
   },
   "file_extension": ".py",
   "mimetype": "text/x-python",
   "name": "python",
   "nbconvert_exporter": "python",
   "pygments_lexer": "ipython3",
   "version": "3.8.8"
  },
  "orig_nbformat": 4
 },
 "nbformat": 4,
 "nbformat_minor": 2
}
