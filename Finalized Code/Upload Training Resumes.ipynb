{
 "cells": [
  {
   "cell_type": "code",
   "execution_count": 27,
   "metadata": {},
   "outputs": [
    {
     "name": "stdout",
     "output_type": "stream",
     "text": [
      " is working\n"
     ]
    }
   ],
   "source": [
    "import pytds\n",
    "import re \n",
    "import spacy\n",
    "import pandas as pd\n",
    "from time import time\n",
    "connect_string = \"\"\n",
    "try:\n",
    "    conn = pytds.connect(server = '34.69.166.47', database = 'TBDraft', user = 'sqlserver', password='TBuilder')\n",
    "    print(\"{c} is working\".format(c=connect_string))\n",
    "except pytds.Error as ex:\n",
    "    print(\"{c} is not working\".format(c=connect_string))"
   ]
  },
  {
   "cell_type": "code",
   "execution_count": 63,
   "metadata": {},
   "outputs": [
    {
     "name": "stdout",
     "output_type": "stream",
     "text": [
      "Time to clean up everything: 0.16 mins\n"
     ]
    },
    {
     "data": {
      "text/html": [
       "<div>\n",
       "<style scoped>\n",
       "    .dataframe tbody tr th:only-of-type {\n",
       "        vertical-align: middle;\n",
       "    }\n",
       "\n",
       "    .dataframe tbody tr th {\n",
       "        vertical-align: top;\n",
       "    }\n",
       "\n",
       "    .dataframe thead th {\n",
       "        text-align: right;\n",
       "    }\n",
       "</style>\n",
       "<table border=\"1\" class=\"dataframe\">\n",
       "  <thead>\n",
       "    <tr style=\"text-align: right;\">\n",
       "      <th></th>\n",
       "      <th>CandidateID</th>\n",
       "      <th>Keyword</th>\n",
       "      <th>Resume</th>\n",
       "      <th>Cleaned_Resume</th>\n",
       "    </tr>\n",
       "  </thead>\n",
       "  <tbody>\n",
       "    <tr>\n",
       "      <th>0</th>\n",
       "      <td>Andres-Salazar</td>\n",
       "      <td>Electronics_Engineer</td>\n",
       "      <td>Andres Salazar Fort Worth, TX -Email me on I...</td>\n",
       "      <td>andre salazar fort worth tx email talent ele...</td>\n",
       "    </tr>\n",
       "    <tr>\n",
       "      <th>1</th>\n",
       "      <td>Arturo-Cervantes</td>\n",
       "      <td>Electronics_Engineer</td>\n",
       "      <td>Arturo Cervantes Mission, TX -Email me on In...</td>\n",
       "      <td>arturo cervante mission tx email seek employ...</td>\n",
       "    </tr>\n",
       "    <tr>\n",
       "      <th>2</th>\n",
       "      <td>Brandon-Karnoski</td>\n",
       "      <td>Electronics_Engineer</td>\n",
       "      <td>Brandon Karnoski League City, TX -Email me o...</td>\n",
       "      <td>brandon karnoski league city tx email work e...</td>\n",
       "    </tr>\n",
       "    <tr>\n",
       "      <th>3</th>\n",
       "      <td>Charles-Sampson</td>\n",
       "      <td>Electronics_Engineer</td>\n",
       "      <td>Charles Sampson Independent Contractor - Up-...</td>\n",
       "      <td>charles sampson independent contractor rev i...</td>\n",
       "    </tr>\n",
       "    <tr>\n",
       "      <th>4</th>\n",
       "      <td>Clay-Styer</td>\n",
       "      <td>Electronics_Engineer</td>\n",
       "      <td>Clay Styer Woodway, TX -Email me on Indeed: ...</td>\n",
       "      <td>clay styer woodway tx email experience profe...</td>\n",
       "    </tr>\n",
       "  </tbody>\n",
       "</table>\n",
       "</div>"
      ],
      "text/plain": [
       "        CandidateID               Keyword  \\\n",
       "0    Andres-Salazar  Electronics_Engineer   \n",
       "1  Arturo-Cervantes  Electronics_Engineer   \n",
       "2  Brandon-Karnoski  Electronics_Engineer   \n",
       "3   Charles-Sampson  Electronics_Engineer   \n",
       "4        Clay-Styer  Electronics_Engineer   \n",
       "\n",
       "                                              Resume  \\\n",
       "0    Andres Salazar Fort Worth, TX -Email me on I...   \n",
       "1    Arturo Cervantes Mission, TX -Email me on In...   \n",
       "2    Brandon Karnoski League City, TX -Email me o...   \n",
       "3    Charles Sampson Independent Contractor - Up-...   \n",
       "4    Clay Styer Woodway, TX -Email me on Indeed: ...   \n",
       "\n",
       "                                      Cleaned_Resume  \n",
       "0    andre salazar fort worth tx email talent ele...  \n",
       "1    arturo cervante mission tx email seek employ...  \n",
       "2    brandon karnoski league city tx email work e...  \n",
       "3    charles sampson independent contractor rev i...  \n",
       "4    clay styer woodway tx email experience profe...  "
      ]
     },
     "execution_count": 63,
     "metadata": {},
     "output_type": "execute_result"
    }
   ],
   "source": [
    "from tika import parser\n",
    "import os\n",
    "df = pd.DataFrame(columns=['CandidateID','Keyword', 'Resume', 'Cleaned_Resume'])\n",
    "for dirname , _, filenames in os.walk('C:/Users/maxbr/ECEN 403/ECEN-403/Test Resumes'):\n",
    "    for filename in filenames:\n",
    "       path = os.path.join(dirname, filename)\n",
    "       raw = parser.from_file(path)\n",
    "       df = df.append({'CandidateID' : filename[:-4],'Keyword' : dirname.replace(\"C:/Users/maxbr/ECEN 403/ECEN-403/Test Resumes\\\\\", \"\"), 'Resume' : \" \".join(raw['content'].strip().split('\\n')[1:]), 'Cleaned_Resume' : \"\"}, \n",
    "                ignore_index = True)\n",
    "   \n",
    "df.shape\n",
    "\n",
    "def cleanResume(resumeText):\n",
    "    resumeText = re.sub('http\\S+\\s*', ' ', resumeText)  # remove URLs\n",
    "    resumeText = re.sub('RT|cc', ' ', resumeText)  # remove RT and cc\n",
    "    resumeText = re.sub('#\\S+', '', resumeText)  # remove hashtags\n",
    "    resumeText = re.sub('@\\S+', '  ', resumeText)  # remove mentions\n",
    "    resumeText = re.sub('[%s]' % re.escape(\"\"\"!\"#$%&'()*+,-./:;<=>?@[\\]^_`{|}~\"\"\"), ' ', resumeText)  # remove punctuations\n",
    "    resumeText = re.sub(r'[^\\x00-\\x7f]',r' ', resumeText) \n",
    "    resumeText = re.sub('\\s+', ' ', resumeText)  # remove extra whitespace\n",
    "    return resumeText\n",
    "df['Cleaned_Resume'] = df.Resume.apply(lambda x: cleanResume(x))\n",
    "nlp = spacy.load('en_core_web_sm', disable=['ner', 'parser']) # disabling Named Entity Recognition for speed\n",
    "\n",
    "def cleaning(doc):\n",
    "    # Lemmatizes and removes stopwords\n",
    "    # doc needs to be a spacy Doc object\n",
    "    txt = [token.lemma_ for token in doc if not token.is_stop]\n",
    "    # Word2Vec uses context words to learn the vector representation of a target word,\n",
    "    # if a sentence is only one or two words long,\n",
    "    # the benefit for the training is very small\n",
    "    if len(txt) > 2:\n",
    "        return ' '.join(txt)\n",
    "\n",
    "brief_cleaning = (re.sub(\"[^A-Za-z']+\", ' ', str(row)).lower() for row in df['Cleaned_Resume'])\n",
    "\n",
    "t = time()\n",
    "\n",
    "txt = [cleaning(doc) for doc in nlp.pipe(brief_cleaning, batch_size=5000)]\n",
    "\n",
    "print('Time to clean up everything: {} mins'.format(round((time() - t) / 60, 2)))\n",
    "df['Cleaned_Resume'] = txt\n",
    "df.head()"
   ]
  },
  {
   "cell_type": "code",
   "execution_count": 64,
   "metadata": {},
   "outputs": [],
   "source": [
    "cursor = conn.cursor()\n",
    "cursor.execute('''TRUNCATE TABLE TrainingResumes''')\n",
    "conn.commit()\n",
    "#cursor.execute(\"INSERT INTO HumanResources.DepartmentTest (DepartmentID,Name,GroupName) values(?,?,?)\", row.DepartmentID, row.Name, row.GroupName)\n",
    "insert_q = \"INSERT INTO TrainingResumes (keyword, dataText) \"\n",
    "for i in range(len(df['Cleaned_Resume'])):\n",
    "    keyword = df.Keyword[i]\n",
    "    data = df.Cleaned_Resume[i]\n",
    "\n",
    "    values = \"Values('\" + keyword + \"','\" + data + \"')\"\n",
    "    commd = insert_q + values\n",
    "    \n",
    "    cursor.execute(commd)\n",
    "    \n",
    "conn.commit()"
   ]
  },
  {
   "cell_type": "code",
   "execution_count": 65,
   "metadata": {},
   "outputs": [
    {
     "data": {
      "text/html": [
       "<div>\n",
       "<style scoped>\n",
       "    .dataframe tbody tr th:only-of-type {\n",
       "        vertical-align: middle;\n",
       "    }\n",
       "\n",
       "    .dataframe tbody tr th {\n",
       "        vertical-align: top;\n",
       "    }\n",
       "\n",
       "    .dataframe thead th {\n",
       "        text-align: right;\n",
       "    }\n",
       "</style>\n",
       "<table border=\"1\" class=\"dataframe\">\n",
       "  <thead>\n",
       "    <tr style=\"text-align: right;\">\n",
       "      <th></th>\n",
       "      <th>keyword</th>\n",
       "      <th>dataText</th>\n",
       "    </tr>\n",
       "  </thead>\n",
       "  <tbody>\n",
       "    <tr>\n",
       "      <th>0</th>\n",
       "      <td>Electronics_Engineer</td>\n",
       "      <td>andre salazar fort worth tx email talent ele...</td>\n",
       "    </tr>\n",
       "    <tr>\n",
       "      <th>1</th>\n",
       "      <td>Electronics_Engineer</td>\n",
       "      <td>arturo cervante mission tx email seek employ...</td>\n",
       "    </tr>\n",
       "    <tr>\n",
       "      <th>2</th>\n",
       "      <td>Electronics_Engineer</td>\n",
       "      <td>juan avila charleston sc email experience el...</td>\n",
       "    </tr>\n",
       "    <tr>\n",
       "      <th>3</th>\n",
       "      <td>Electronics_Engineer</td>\n",
       "      <td>travis ray engineer product designer develop...</td>\n",
       "    </tr>\n",
       "    <tr>\n",
       "      <th>4</th>\n",
       "      <td>Embedded_Systems</td>\n",
       "      <td>daniel koh forney tx email software developm...</td>\n",
       "    </tr>\n",
       "    <tr>\n",
       "      <th>...</th>\n",
       "      <td>...</td>\n",
       "      <td>...</td>\n",
       "    </tr>\n",
       "    <tr>\n",
       "      <th>101</th>\n",
       "      <td>Software_Engineer</td>\n",
       "      <td>kai schmidt software engineer citrus height ...</td>\n",
       "    </tr>\n",
       "    <tr>\n",
       "      <th>102</th>\n",
       "      <td>Software_Engineer</td>\n",
       "      <td>nathan nguyen irvine email work experience s...</td>\n",
       "    </tr>\n",
       "    <tr>\n",
       "      <th>103</th>\n",
       "      <td>Software_Engineer</td>\n",
       "      <td>peter pagano bohemia ny email authorize work...</td>\n",
       "    </tr>\n",
       "    <tr>\n",
       "      <th>104</th>\n",
       "      <td>Software_Engineer</td>\n",
       "      <td>steven nichol c c software engineer grand ra...</td>\n",
       "    </tr>\n",
       "    <tr>\n",
       "      <th>105</th>\n",
       "      <td>Software_Engineer</td>\n",
       "      <td>xueqiang pan highland ut email skilled innov...</td>\n",
       "    </tr>\n",
       "  </tbody>\n",
       "</table>\n",
       "<p>106 rows × 2 columns</p>\n",
       "</div>"
      ],
      "text/plain": [
       "                  keyword                                           dataText\n",
       "0    Electronics_Engineer    andre salazar fort worth tx email talent ele...\n",
       "1    Electronics_Engineer    arturo cervante mission tx email seek employ...\n",
       "2    Electronics_Engineer    juan avila charleston sc email experience el...\n",
       "3    Electronics_Engineer    travis ray engineer product designer develop...\n",
       "4        Embedded_Systems    daniel koh forney tx email software developm...\n",
       "..                    ...                                                ...\n",
       "101     Software_Engineer    kai schmidt software engineer citrus height ...\n",
       "102     Software_Engineer    nathan nguyen irvine email work experience s...\n",
       "103     Software_Engineer    peter pagano bohemia ny email authorize work...\n",
       "104     Software_Engineer    steven nichol c c software engineer grand ra...\n",
       "105     Software_Engineer    xueqiang pan highland ut email skilled innov...\n",
       "\n",
       "[106 rows x 2 columns]"
      ]
     },
     "execution_count": 65,
     "metadata": {},
     "output_type": "execute_result"
    }
   ],
   "source": [
    "df_training = pd.read_sql_query(\"SELECT ALL * FROM TrainingResumes\", conn)\n",
    "conn.close()\n",
    "df_training"
   ]
  },
  {
   "cell_type": "code",
   "execution_count": 2,
   "metadata": {},
   "outputs": [
    {
     "name": "stdout",
     "output_type": "stream",
     "text": [
      " is working\n"
     ]
    }
   ],
   "source": [
    "import pytds\n",
    "connect_string = \"\"\n",
    "try:\n",
    "    conn = pytds.connect(server = '34.69.166.47', database = 'TBDraft', user = 'sqlserver', password='TBuilder')\n",
    "    print(\"{c} is working\".format(c=connect_string))\n",
    "except pytds.Error as ex:\n",
    "    print(\"{c} is not working\".format(c=connect_string))"
   ]
  },
  {
   "cell_type": "code",
   "execution_count": 37,
   "metadata": {},
   "outputs": [
    {
     "name": "stdout",
     "output_type": "stream",
     "text": [
      "   projectName                                             Descrp  \\\n",
      "0  Teambuilder  Develop a system that uses student resumes and...   \n",
      "\n",
      "  ProfessorName  \n",
      "0   Kevin Nowka  \n",
      "        projectName roleName            roleDescription  Candidate1  \\\n",
      "0  Solar Skateboard   Role 1      Power Supply Desginer           0   \n",
      "1  Solar Skateboard   Role 2  Microcontroller Subsystem           0   \n",
      "2  Solar Skateboard   Role 3        Wireless Controller           0   \n",
      "3         Music App   Role 1              App Developer           0   \n",
      "4         Music App   Role 2  Microcontroller/Bluetooth           0   \n",
      "5         Music App   Role 3         Audio Transmission           0   \n",
      "6         Music App   Role 4        Power Supply Design           0   \n",
      "\n",
      "   Candidate2  Candidate3                             proSkills  \\\n",
      "0           0           0           Power Supply, DC Converters   \n",
      "1           0           0                           Python, C++   \n",
      "2           0           0                 Wireless, ADC, Python   \n",
      "3           0           0                        Python, Coding   \n",
      "4           0           0  Microcontroller, Wireless, Bluetooth   \n",
      "5           0           0               ADC, Audio Transmission   \n",
      "6           0           0            Power Supply, DC Converter   \n",
      "\n",
      "               conSkills  \n",
      "0                         \n",
      "1                         \n",
      "2          Power Systems  \n",
      "3                         \n",
      "4  Java, Web Development  \n",
      "5    Power Supply Design  \n",
      "6                         \n"
     ]
    }
   ],
   "source": [
    "df_roles = pd.read_sql_query(\"SELECT ALL * FROM Roles\", conn)\n",
    "df_projects = pd.read_sql_query(\"SELECT ALL * FROM Project\", conn)\n",
    "\n",
    "print(df_projects)\n",
    "print(df_roles)"
   ]
  },
  {
   "cell_type": "code",
   "execution_count": 36,
   "metadata": {},
   "outputs": [],
   "source": [
    "cursor = conn.cursor()\n",
    "insert_q = \"INSERT INTO Roles (projectName, roleName, roleDescription, Candidate1, Candidate2, Candidate3, proSkills, conSkills ) \"\n",
    "values = \"Values('Music App', 'Role 4', 'Power Supply Design', '' , '' , '', 'Power Supply, DC Converter', '')\"\n",
    "commd = insert_q + values   \n",
    "cursor.execute(commd)    \n",
    "conn.commit()"
   ]
  },
  {
   "cell_type": "code",
   "execution_count": 18,
   "metadata": {},
   "outputs": [],
   "source": [
    "cursor.execute('''TRUNCATE TABLE Roles''')\n",
    "conn.commit()"
   ]
  },
  {
   "cell_type": "code",
   "execution_count": 25,
   "metadata": {},
   "outputs": [],
   "source": [
    "conn.close()"
   ]
  }
 ],
 "metadata": {
  "interpreter": {
   "hash": "69653a312dbe931d74f7dcdd7e6244916ba6f541c5453c763d9189f9df467eeb"
  },
  "kernelspec": {
   "display_name": "Python 3.8.8 64-bit ('base': conda)",
   "language": "python",
   "name": "python3"
  },
  "language_info": {
   "codemirror_mode": {
    "name": "ipython",
    "version": 3
   },
   "file_extension": ".py",
   "mimetype": "text/x-python",
   "name": "python",
   "nbconvert_exporter": "python",
   "pygments_lexer": "ipython3",
   "version": "3.8.8"
  },
  "orig_nbformat": 4
 },
 "nbformat": 4,
 "nbformat_minor": 2
}
