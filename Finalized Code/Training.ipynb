{
 "cells": [
  {
   "cell_type": "markdown",
   "metadata": {},
   "source": [
    "Importing all Libraries needed to train as well as get information from the data base"
   ]
  },
  {
   "cell_type": "code",
   "execution_count": 28,
   "metadata": {},
   "outputs": [],
   "source": [
    "import pandas as pd\n",
    "import logging\n",
    "logging.basicConfig(format=\"%(levelname)s - %(asctime)s: %(message)s\", datefmt= '%H:%M:%S', level=logging.INFO)\n",
    "import multiprocessing\n",
    "from gensim.models.doc2vec import Doc2Vec, TaggedDocument\n",
    "import pytds\n",
    "import re #For Preprocessing\n",
    "import spacy #More Preprocessing\n",
    "from time import time #To Time the Operations\n"
   ]
  },
  {
   "cell_type": "markdown",
   "metadata": {},
   "source": [
    "Connecting to database to retrieve student and training resumes"
   ]
  },
  {
   "cell_type": "code",
   "execution_count": 29,
   "metadata": {},
   "outputs": [
    {
     "name": "stderr",
     "output_type": "stream",
     "text": [
      "INFO - 22:31:00: Opening socket to 34.69.166.47:1433\n",
      "INFO - 22:31:00: Sending PRELOGIN lib_ver=10b0000 enc_flag=2 inst_name=b'MSSQLServer' mars=False\n",
      "INFO - 22:31:00: Got PRELOGIN response crypt=2 mars=0\n",
      "INFO - 22:31:00: Sending LOGIN tds_ver=74000004 bufsz=4096 pid=3784 opt1=f0 opt2=2 opt3=8 cli_tz=-360 cli_lcid=1033 cli_host=DESKTOP-02AVBJA lang= db=TBDraft\n",
      "INFO - 22:31:00: switched to database TBDraft\n",
      "INFO - 22:31:00: switched collation to Collation(lcid=1033, sort_id=52, ignore_case=True, ignore_accent=False, ignore_width=True, ignore_kana=True, binary=False, binary2=False, version=0)\n",
      "INFO - 22:31:00: switched language to us_english\n",
      "INFO - 22:31:00: Got LOGINACK tds_ver=74000004 srv_name=Microsoft SQL Server\u0000\u0000 srv_ver=f001052\n",
      "INFO - 22:31:00: Sending BEGIN TRAN il=0\n"
     ]
    },
    {
     "name": "stdout",
     "output_type": "stream",
     "text": [
      " is working\n"
     ]
    }
   ],
   "source": [
    "connect_string = \"\"\n",
    "try:\n",
    "    con = pytds.connect(server = '34.69.166.47', database = 'TBDraft', user = 'sqlserver', password='TBuilder')\n",
    "    cursor = con.cursor()\n",
    "    print(\"{c} is working\".format(c=connect_string))\n",
    "except pytds.Error as ex:\n",
    "    print(\"{c} is not working\".format(c=connect_string))"
   ]
  },
  {
   "cell_type": "code",
   "execution_count": 30,
   "metadata": {},
   "outputs": [
    {
     "name": "stderr",
     "output_type": "stream",
     "text": [
      "INFO - 22:31:00: Sending query SELECT ALL * FROM TrainingResumes\n"
     ]
    },
    {
     "name": "stdout",
     "output_type": "stream",
     "text": [
      "                  keyword                                           dataText\n",
      "0    Electronics_Engineer    andre salazar fort worth tx email talent ele...\n",
      "1    Electronics_Engineer    arturo cervante mission tx email seek employ...\n",
      "2    Electronics_Engineer    juan avila charleston sc email experience el...\n",
      "3    Electronics_Engineer    travis ray engineer product designer develop...\n",
      "4        Embedded_Systems    daniel koh forney tx email software developm...\n",
      "..                    ...                                                ...\n",
      "101     Software_Engineer    kai schmidt software engineer citrus height ...\n",
      "102     Software_Engineer    nathan nguyen irvine email work experience s...\n",
      "103     Software_Engineer    peter pagano bohemia ny email authorize work...\n",
      "104     Software_Engineer    steven nichol c c software engineer grand ra...\n",
      "105     Software_Engineer    xueqiang pan highland ut email skilled innov...\n",
      "\n",
      "[106 rows x 2 columns]\n"
     ]
    }
   ],
   "source": [
    "##After connecting to database extract preprocessed information\n",
    "#These are the base training resumes\n",
    "df_training = pd.read_sql_query(\"SELECT ALL * FROM TrainingResumes\", con)\n",
    "#There are the processed student resumes\n",
    "#df_students = pd.read_sql_query(\"SELECT ALL * FROM StudentInformation\", conn)\n",
    "con.close()\n",
    "print(df_training)\n",
    "#print(df_students)\n"
   ]
  },
  {
   "cell_type": "code",
   "execution_count": 31,
   "metadata": {},
   "outputs": [
    {
     "data": {
      "text/html": [
       "<div>\n",
       "<style scoped>\n",
       "    .dataframe tbody tr th:only-of-type {\n",
       "        vertical-align: middle;\n",
       "    }\n",
       "\n",
       "    .dataframe tbody tr th {\n",
       "        vertical-align: top;\n",
       "    }\n",
       "\n",
       "    .dataframe thead th {\n",
       "        text-align: right;\n",
       "    }\n",
       "</style>\n",
       "<table border=\"1\" class=\"dataframe\">\n",
       "  <thead>\n",
       "    <tr style=\"text-align: right;\">\n",
       "      <th></th>\n",
       "      <th>Keyword</th>\n",
       "      <th>Data</th>\n",
       "    </tr>\n",
       "  </thead>\n",
       "  <tbody>\n",
       "    <tr>\n",
       "      <th>0</th>\n",
       "      <td>Electronics_Engineer</td>\n",
       "      <td>andre salazar fort worth tx email talent ele...</td>\n",
       "    </tr>\n",
       "    <tr>\n",
       "      <th>1</th>\n",
       "      <td>Electronics_Engineer</td>\n",
       "      <td>arturo cervante mission tx email seek employ...</td>\n",
       "    </tr>\n",
       "    <tr>\n",
       "      <th>2</th>\n",
       "      <td>Electronics_Engineer</td>\n",
       "      <td>juan avila charleston sc email experience el...</td>\n",
       "    </tr>\n",
       "    <tr>\n",
       "      <th>3</th>\n",
       "      <td>Electronics_Engineer</td>\n",
       "      <td>travis ray engineer product designer develop...</td>\n",
       "    </tr>\n",
       "    <tr>\n",
       "      <th>4</th>\n",
       "      <td>Embedded_Systems</td>\n",
       "      <td>daniel koh forney tx email software developm...</td>\n",
       "    </tr>\n",
       "    <tr>\n",
       "      <th>...</th>\n",
       "      <td>...</td>\n",
       "      <td>...</td>\n",
       "    </tr>\n",
       "    <tr>\n",
       "      <th>101</th>\n",
       "      <td>Software_Engineer</td>\n",
       "      <td>kai schmidt software engineer citrus height ...</td>\n",
       "    </tr>\n",
       "    <tr>\n",
       "      <th>102</th>\n",
       "      <td>Software_Engineer</td>\n",
       "      <td>nathan nguyen irvine email work experience s...</td>\n",
       "    </tr>\n",
       "    <tr>\n",
       "      <th>103</th>\n",
       "      <td>Software_Engineer</td>\n",
       "      <td>peter pagano bohemia ny email authorize work...</td>\n",
       "    </tr>\n",
       "    <tr>\n",
       "      <th>104</th>\n",
       "      <td>Software_Engineer</td>\n",
       "      <td>steven nichol c c software engineer grand ra...</td>\n",
       "    </tr>\n",
       "    <tr>\n",
       "      <th>105</th>\n",
       "      <td>Software_Engineer</td>\n",
       "      <td>xueqiang pan highland ut email skilled innov...</td>\n",
       "    </tr>\n",
       "  </tbody>\n",
       "</table>\n",
       "<p>106 rows × 2 columns</p>\n",
       "</div>"
      ],
      "text/plain": [
       "                  Keyword                                               Data\n",
       "0    Electronics_Engineer    andre salazar fort worth tx email talent ele...\n",
       "1    Electronics_Engineer    arturo cervante mission tx email seek employ...\n",
       "2    Electronics_Engineer    juan avila charleston sc email experience el...\n",
       "3    Electronics_Engineer    travis ray engineer product designer develop...\n",
       "4        Embedded_Systems    daniel koh forney tx email software developm...\n",
       "..                    ...                                                ...\n",
       "101     Software_Engineer    kai schmidt software engineer citrus height ...\n",
       "102     Software_Engineer    nathan nguyen irvine email work experience s...\n",
       "103     Software_Engineer    peter pagano bohemia ny email authorize work...\n",
       "104     Software_Engineer    steven nichol c c software engineer grand ra...\n",
       "105     Software_Engineer    xueqiang pan highland ut email skilled innov...\n",
       "\n",
       "[106 rows x 2 columns]"
      ]
     },
     "execution_count": 31,
     "metadata": {},
     "output_type": "execute_result"
    }
   ],
   "source": [
    "df = pd.DataFrame(columns=['Keyword', 'Data'])\n",
    "df['Keyword'] = df_training['keyword'] #+ df_students['']\n",
    "df['Data'] = df_training['dataText'] #+ df_students['']\n",
    "df"
   ]
  },
  {
   "cell_type": "markdown",
   "metadata": {},
   "source": [
    "For Now we use tika to parse resumes and clean them"
   ]
  },
  {
   "cell_type": "code",
   "execution_count": 32,
   "metadata": {},
   "outputs": [],
   "source": [
    "sent = [row.split() for row in df['Data']] #Change change ['clean'] to whatever we actually label the columns as\n",
    "documents = [TaggedDocument(doc, tags=[df.Keyword[i]]) for i, doc in enumerate(sent)]"
   ]
  },
  {
   "cell_type": "markdown",
   "metadata": {},
   "source": [
    "Training the model and saving it"
   ]
  },
  {
   "cell_type": "code",
   "execution_count": 33,
   "metadata": {},
   "outputs": [
    {
     "name": "stderr",
     "output_type": "stream",
     "text": [
      "INFO - 22:31:02: collecting all words and their counts\n",
      "INFO - 22:31:02: PROGRESS: at example #0, processed 0 words (0/s), 0 word types, 0 tags\n",
      "INFO - 22:31:02: collected 7058 word types and 6 unique tags from a corpus of 106 examples and 56454 words\n",
      "INFO - 22:31:02: Creating a fresh vocabulary\n",
      "INFO - 22:31:02: Doc2Vec lifecycle event {'msg': 'effective_min_count=30 retains 369 unique words (5.2281099461603855%% of original 7058, drops 6689)', 'datetime': '2021-11-24T22:31:02.276661', 'gensim': '4.0.1', 'python': '3.8.8 (default, Apr 13 2021, 15:08:03) [MSC v.1916 64 bit (AMD64)]', 'platform': 'Windows-10-10.0.19041-SP0', 'event': 'prepare_vocab'}\n",
      "INFO - 22:31:02: Doc2Vec lifecycle event {'msg': 'effective_min_count=30 leaves 31457 word corpus (55.72147234916923%% of original 56454, drops 24997)', 'datetime': '2021-11-24T22:31:02.277654', 'gensim': '4.0.1', 'python': '3.8.8 (default, Apr 13 2021, 15:08:03) [MSC v.1916 64 bit (AMD64)]', 'platform': 'Windows-10-10.0.19041-SP0', 'event': 'prepare_vocab'}\n",
      "INFO - 22:31:02: deleting the raw counts dictionary of 7058 items\n",
      "INFO - 22:31:02: sample=0.001 downsamples 104 most-common words\n",
      "INFO - 22:31:02: Doc2Vec lifecycle event {'msg': 'downsampling leaves estimated 23367.11389477367 word corpus (74.3%% of prior 31457)', 'datetime': '2021-11-24T22:31:02.286586', 'gensim': '4.0.1', 'python': '3.8.8 (default, Apr 13 2021, 15:08:03) [MSC v.1916 64 bit (AMD64)]', 'platform': 'Windows-10-10.0.19041-SP0', 'event': 'prepare_vocab'}\n",
      "INFO - 22:31:02: estimated required memory for 369 words and 30 dimensions: 274980 bytes\n",
      "INFO - 22:31:02: resetting layer weights\n",
      "INFO - 22:31:02: Doc2Vec lifecycle event {'msg': 'training model with 7 workers on 369 vocabulary and 30 features, using sg=1 hs=0 sample=0.001 negative=15 window=5', 'datetime': '2021-11-24T22:31:02.304624', 'gensim': '4.0.1', 'python': '3.8.8 (default, Apr 13 2021, 15:08:03) [MSC v.1916 64 bit (AMD64)]', 'platform': 'Windows-10-10.0.19041-SP0', 'event': 'train'}\n",
      "INFO - 22:31:02: worker thread finished; awaiting finish of 6 more threads\n",
      "INFO - 22:31:02: worker thread finished; awaiting finish of 5 more threads\n",
      "INFO - 22:31:02: worker thread finished; awaiting finish of 4 more threads\n",
      "INFO - 22:31:02: worker thread finished; awaiting finish of 3 more threads\n",
      "INFO - 22:31:02: worker thread finished; awaiting finish of 2 more threads\n",
      "INFO - 22:31:02: worker thread finished; awaiting finish of 1 more threads\n",
      "INFO - 22:31:02: worker thread finished; awaiting finish of 0 more threads\n",
      "INFO - 22:31:02: EPOCH - 1 : training on 56454 raw words (23509 effective words) took 0.2s, 122696 effective words/s\n",
      "INFO - 22:31:02: worker thread finished; awaiting finish of 6 more threads\n",
      "INFO - 22:31:02: worker thread finished; awaiting finish of 5 more threads\n",
      "INFO - 22:31:02: worker thread finished; awaiting finish of 4 more threads\n",
      "INFO - 22:31:02: worker thread finished; awaiting finish of 3 more threads\n",
      "INFO - 22:31:02: worker thread finished; awaiting finish of 2 more threads\n",
      "INFO - 22:31:02: worker thread finished; awaiting finish of 1 more threads\n",
      "INFO - 22:31:02: worker thread finished; awaiting finish of 0 more threads\n",
      "INFO - 22:31:02: EPOCH - 2 : training on 56454 raw words (23506 effective words) took 0.2s, 148475 effective words/s\n",
      "INFO - 22:31:02: worker thread finished; awaiting finish of 6 more threads\n",
      "INFO - 22:31:02: worker thread finished; awaiting finish of 5 more threads\n",
      "INFO - 22:31:02: worker thread finished; awaiting finish of 4 more threads\n",
      "INFO - 22:31:02: worker thread finished; awaiting finish of 3 more threads\n",
      "INFO - 22:31:02: worker thread finished; awaiting finish of 2 more threads\n",
      "INFO - 22:31:02: worker thread finished; awaiting finish of 1 more threads\n",
      "INFO - 22:31:02: worker thread finished; awaiting finish of 0 more threads\n",
      "INFO - 22:31:02: EPOCH - 3 : training on 56454 raw words (23539 effective words) took 0.1s, 162092 effective words/s\n",
      "INFO - 22:31:02: worker thread finished; awaiting finish of 6 more threads\n",
      "INFO - 22:31:02: worker thread finished; awaiting finish of 5 more threads\n",
      "INFO - 22:31:02: worker thread finished; awaiting finish of 4 more threads\n",
      "INFO - 22:31:02: worker thread finished; awaiting finish of 3 more threads\n",
      "INFO - 22:31:02: worker thread finished; awaiting finish of 2 more threads\n",
      "INFO - 22:31:02: worker thread finished; awaiting finish of 1 more threads\n",
      "INFO - 22:31:02: worker thread finished; awaiting finish of 0 more threads\n",
      "INFO - 22:31:02: EPOCH - 4 : training on 56454 raw words (23436 effective words) took 0.1s, 181122 effective words/s\n",
      "INFO - 22:31:02: worker thread finished; awaiting finish of 6 more threads\n",
      "INFO - 22:31:03: worker thread finished; awaiting finish of 5 more threads\n",
      "INFO - 22:31:03: worker thread finished; awaiting finish of 4 more threads\n",
      "INFO - 22:31:03: worker thread finished; awaiting finish of 3 more threads\n",
      "INFO - 22:31:03: worker thread finished; awaiting finish of 2 more threads\n",
      "INFO - 22:31:03: worker thread finished; awaiting finish of 1 more threads\n",
      "INFO - 22:31:03: worker thread finished; awaiting finish of 0 more threads\n",
      "INFO - 22:31:03: EPOCH - 5 : training on 56454 raw words (23378 effective words) took 0.2s, 154566 effective words/s\n",
      "INFO - 22:31:03: worker thread finished; awaiting finish of 6 more threads\n",
      "INFO - 22:31:03: worker thread finished; awaiting finish of 5 more threads\n",
      "INFO - 22:31:03: worker thread finished; awaiting finish of 4 more threads\n",
      "INFO - 22:31:03: worker thread finished; awaiting finish of 3 more threads\n",
      "INFO - 22:31:03: worker thread finished; awaiting finish of 2 more threads\n",
      "INFO - 22:31:03: worker thread finished; awaiting finish of 1 more threads\n",
      "INFO - 22:31:03: worker thread finished; awaiting finish of 0 more threads\n",
      "INFO - 22:31:03: EPOCH - 6 : training on 56454 raw words (23537 effective words) took 0.2s, 145636 effective words/s\n",
      "INFO - 22:31:03: worker thread finished; awaiting finish of 6 more threads\n",
      "INFO - 22:31:03: worker thread finished; awaiting finish of 5 more threads\n",
      "INFO - 22:31:03: worker thread finished; awaiting finish of 4 more threads\n",
      "INFO - 22:31:03: worker thread finished; awaiting finish of 3 more threads\n",
      "INFO - 22:31:03: worker thread finished; awaiting finish of 2 more threads\n",
      "INFO - 22:31:03: worker thread finished; awaiting finish of 1 more threads\n",
      "INFO - 22:31:03: worker thread finished; awaiting finish of 0 more threads\n",
      "INFO - 22:31:03: EPOCH - 7 : training on 56454 raw words (23528 effective words) took 0.1s, 168402 effective words/s\n",
      "INFO - 22:31:03: worker thread finished; awaiting finish of 6 more threads\n",
      "INFO - 22:31:03: worker thread finished; awaiting finish of 5 more threads\n",
      "INFO - 22:31:03: worker thread finished; awaiting finish of 4 more threads\n",
      "INFO - 22:31:03: worker thread finished; awaiting finish of 3 more threads\n",
      "INFO - 22:31:03: worker thread finished; awaiting finish of 2 more threads\n",
      "INFO - 22:31:03: worker thread finished; awaiting finish of 1 more threads\n",
      "INFO - 22:31:03: worker thread finished; awaiting finish of 0 more threads\n",
      "INFO - 22:31:03: EPOCH - 8 : training on 56454 raw words (23483 effective words) took 0.1s, 180212 effective words/s\n",
      "INFO - 22:31:03: worker thread finished; awaiting finish of 6 more threads\n",
      "INFO - 22:31:03: worker thread finished; awaiting finish of 5 more threads\n",
      "INFO - 22:31:03: worker thread finished; awaiting finish of 4 more threads\n",
      "INFO - 22:31:03: worker thread finished; awaiting finish of 3 more threads\n",
      "INFO - 22:31:03: worker thread finished; awaiting finish of 2 more threads\n",
      "INFO - 22:31:03: worker thread finished; awaiting finish of 1 more threads\n",
      "INFO - 22:31:03: worker thread finished; awaiting finish of 0 more threads\n",
      "INFO - 22:31:03: EPOCH - 9 : training on 56454 raw words (23464 effective words) took 0.1s, 180723 effective words/s\n",
      "INFO - 22:31:03: worker thread finished; awaiting finish of 6 more threads\n",
      "INFO - 22:31:03: worker thread finished; awaiting finish of 5 more threads\n",
      "INFO - 22:31:03: worker thread finished; awaiting finish of 4 more threads\n",
      "INFO - 22:31:03: worker thread finished; awaiting finish of 3 more threads\n",
      "INFO - 22:31:03: worker thread finished; awaiting finish of 2 more threads\n",
      "INFO - 22:31:03: worker thread finished; awaiting finish of 1 more threads\n",
      "INFO - 22:31:03: worker thread finished; awaiting finish of 0 more threads\n",
      "INFO - 22:31:03: EPOCH - 10 : training on 56454 raw words (23459 effective words) took 0.1s, 175692 effective words/s\n",
      "INFO - 22:31:03: Doc2Vec lifecycle event {'msg': 'training on 564540 raw words (234839 effective words) took 1.5s, 152687 effective words/s', 'datetime': '2021-11-24T22:31:03.843924', 'gensim': '4.0.1', 'python': '3.8.8 (default, Apr 13 2021, 15:08:03) [MSC v.1916 64 bit (AMD64)]', 'platform': 'Windows-10-10.0.19041-SP0', 'event': 'train'}\n",
      "INFO - 22:31:03: Doc2Vec lifecycle event {'params': 'Doc2Vec(dbow+w,d30,n15,w5,mc30,s0.001,t7)', 'datetime': '2021-11-24T22:31:03.844924', 'gensim': '4.0.1', 'python': '3.8.8 (default, Apr 13 2021, 15:08:03) [MSC v.1916 64 bit (AMD64)]', 'platform': 'Windows-10-10.0.19041-SP0', 'event': 'created'}\n",
      "INFO - 22:31:03: Doc2Vec lifecycle event {'fname_or_handle': 'd2v_model', 'separately': 'None', 'sep_limit': 10485760, 'ignore': frozenset(), 'datetime': '2021-11-24T22:31:03.845926', 'gensim': '4.0.1', 'python': '3.8.8 (default, Apr 13 2021, 15:08:03) [MSC v.1916 64 bit (AMD64)]', 'platform': 'Windows-10-10.0.19041-SP0', 'event': 'saving'}\n",
      "INFO - 22:31:03: not storing attribute cum_table\n",
      "INFO - 22:31:03: saved d2v_model\n"
     ]
    }
   ],
   "source": [
    "threads = multiprocessing.cpu_count()\n",
    "model = Doc2Vec(documents, \n",
    "                dm = 0,\n",
    "                dbow_words=1, \n",
    "                alpha=0.03, \n",
    "                vector_size=30, \n",
    "                min_alpha = 0.0007, \n",
    "                min_count = 30, \n",
    "                negative=15,\n",
    "                workers=threads-1)\n",
    "model.save('d2v_model')"
   ]
  },
  {
   "cell_type": "code",
   "execution_count": 37,
   "metadata": {},
   "outputs": [
    {
     "data": {
      "text/plain": [
       "[('RF_Analog_Engineer', 0.6601521968841553),\n",
       " ('Embedded_Systems', 0.6389424204826355),\n",
       " ('Electronics_Engineer', 0.6247180700302124),\n",
       " ('Power_Systems_Engineer', 0.612964928150177),\n",
       " ('Machine_Learning', 0.5309510231018066),\n",
       " ('Software_Engineer', 0.5123679041862488)]"
      ]
     },
     "execution_count": 37,
     "metadata": {},
     "output_type": "execute_result"
    }
   ],
   "source": [
    "tokens =\"software\".split()\n",
    "new_vec = model.infer_vector(tokens)\n",
    "sims = model.dv.most_similar(positive=[new_vec])\n",
    "sims\n"
   ]
  }
 ],
 "metadata": {
  "interpreter": {
   "hash": "69653a312dbe931d74f7dcdd7e6244916ba6f541c5453c763d9189f9df467eeb"
  },
  "kernelspec": {
   "display_name": "Python 3.8.8 64-bit ('base': conda)",
   "language": "python",
   "name": "python3"
  },
  "language_info": {
   "codemirror_mode": {
    "name": "ipython",
    "version": 3
   },
   "file_extension": ".py",
   "mimetype": "text/x-python",
   "name": "python",
   "nbconvert_exporter": "python",
   "pygments_lexer": "ipython3",
   "version": "3.8.8"
  },
  "orig_nbformat": 4
 },
 "nbformat": 4,
 "nbformat_minor": 2
}
