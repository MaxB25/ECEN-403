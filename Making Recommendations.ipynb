{
 "cells": [
  {
   "cell_type": "code",
   "execution_count": 1,
   "id": "6ca3631d",
   "metadata": {},
   "outputs": [],
   "source": [
    "#Creating the Environment\n",
    "from gensim.models import Word2Vec"
   ]
  },
  {
   "cell_type": "code",
   "execution_count": 2,
   "id": "1625aed1",
   "metadata": {},
   "outputs": [],
   "source": [
    "#Here load the model that was trained on student resumes\n",
    "#model = Word2Vec.load(\"Filename\")dfa "
   ]
  },
  {
   "cell_type": "code",
   "execution_count": 3,
   "id": "86ee8752",
   "metadata": {},
   "outputs": [],
   "source": [
    "#Load the student ids of those that are still in the running"
   ]
  },
  {
   "cell_type": "code",
   "execution_count": 4,
   "id": "50b99781",
   "metadata": {},
   "outputs": [],
   "source": [
    "#Define a struct for Position\n",
    "class Position:\n",
    "    def __init__(self):\n",
    "        self.Pros = [] #List of skills we want from the student\n",
    "        self.Cons = [] #List of skills we would prefer the student not to have"
   ]
  },
  {
   "cell_type": "code",
   "execution_count": 5,
   "id": "93b69347",
   "metadata": {},
   "outputs": [],
   "source": [
    "#Define a struct for Projects\n",
    "class Projects:\n",
    "    def __init__(self):\n",
    "        self.Positions = [] #List of all the positions for this project\n",
    "        self.Recom_Students = [] #List of recommended students for their respective position"
   ]
  },
  {
   "cell_type": "code",
   "execution_count": 8,
   "id": "14b660ca",
   "metadata": {},
   "outputs": [
    {
     "name": "stderr",
     "output_type": "stream",
     "text": [
      "[nltk_data] Downloading package brown to\n",
      "[nltk_data]     C:\\Users\\maxbr\\AppData\\Roaming\\nltk_data...\n",
      "[nltk_data]   Package brown is already up-to-date!\n"
     ]
    }
   ],
   "source": [
    "#Testing some things\n",
    "import nltk\n",
    "nltk.download('brown')\n",
    "from nltk.corpus import brown\n",
    "model = Word2Vec()\n",
    "model.build_vocab(brown.sents(), progress_per=10000)"
   ]
  },
  {
   "cell_type": "code",
   "execution_count": 9,
   "id": "97f7c888",
   "metadata": {},
   "outputs": [
    {
     "data": {
      "text/plain": [
       "(23450222, 34835760)"
      ]
     },
     "execution_count": 9,
     "metadata": {},
     "output_type": "execute_result"
    }
   ],
   "source": [
    "model.train(brown.sents(), total_examples = model.corpus_count, epochs=30)"
   ]
  },
  {
   "cell_type": "code",
   "execution_count": 10,
   "id": "2b594333",
   "metadata": {},
   "outputs": [],
   "source": [
    "words = list(model.wv.index_to_key)"
   ]
  },
  {
   "cell_type": "code",
   "execution_count": 11,
   "id": "cc529b54",
   "metadata": {},
   "outputs": [
    {
     "name": "stdout",
     "output_type": "stream",
     "text": [
      "15173\n"
     ]
    }
   ],
   "source": [
    "print(len(words))"
   ]
  },
  {
   "cell_type": "code",
   "execution_count": 12,
   "id": "8d94d5f2",
   "metadata": {},
   "outputs": [
    {
     "name": "stdout",
     "output_type": "stream",
     "text": [
      "-0.0046412274\n",
      "0.13618037\n",
      "0.14391494\n"
     ]
    }
   ],
   "source": [
    "#model.wv.similarity(<Student ID>, <List of Skills>)\n",
    "#Get the average of these results to give us a base metric\n",
    "#Subtract the skills we don't want\n",
    "print(model.wv.similarity('Earth', 'Space'))\n",
    "print(model.wv.similarity('Earth', 'Water'))\n",
    "print(model.wv.similarity('Earth', 'Gas'))"
   ]
  },
  {
   "cell_type": "code",
   "execution_count": null,
   "id": "e8c4d794",
   "metadata": {},
   "outputs": [],
   "source": []
  }
 ],
 "metadata": {
  "interpreter": {
   "hash": "69653a312dbe931d74f7dcdd7e6244916ba6f541c5453c763d9189f9df467eeb"
  },
  "kernelspec": {
   "display_name": "Python 3.8.8 64-bit ('base': conda)",
   "name": "python3"
  },
  "language_info": {
   "codemirror_mode": {
    "name": "ipython",
    "version": 3
   },
   "file_extension": ".py",
   "mimetype": "text/x-python",
   "name": "python",
   "nbconvert_exporter": "python",
   "pygments_lexer": "ipython3",
   "version": "3.8.8"
  }
 },
 "nbformat": 4,
 "nbformat_minor": 5
}
