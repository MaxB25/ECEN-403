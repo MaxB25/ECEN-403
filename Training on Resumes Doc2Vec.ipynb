{
 "cells": [
  {
   "cell_type": "code",
   "execution_count": 17,
   "id": "6f2755ac",
   "metadata": {},
   "outputs": [],
   "source": [
    "# import pyodbc\n",
    "# connect_string = ''\n",
    "# try:\n",
    "#     conn = pyodbc.connect('DRIVER={SQL Server};SERVER=10.236.6.111;PORT=1433;DATABASE=Teambuilder;UID=admin;PWD=TeamBuilder;')\n",
    "#     print(\"{c} is working\".format(c=connect_string))\n",
    "# except pyodbc.Error as ex:\n",
    "#     print(\"{c} is not working\".format(c=connect_string))\n"
   ]
  },
  {
   "cell_type": "code",
   "execution_count": 18,
   "id": "1a53065a",
   "metadata": {},
   "outputs": [],
   "source": [
    "# import pandas as pd\n",
    "# ##After connecting to database extract preprocessed information\n",
    "# #Read in ID and resumes using pandas\n",
    "\n",
    "# #This is how to create a two column list using two lists newlist = list(zip(numbers,letters))\n",
    "# #Get data from server\n",
    "# student_id = []\n",
    "# student_resume = []\n",
    "# cursor = conn.cursor()\n",
    "# cursor.execute(\"SELECT ALL * FROM StudentInformation\") #StudentInformation is the name of the table\n",
    "# for row in cursor:\n",
    "#         student_id.append(row.StudentName)\n",
    "#         student_resume(row.Resume)\n",
    "# #Store data in pandas data frame\n",
    "# student_info = list(zip(student_id, student_resume))\n",
    "# df = pd.DataFrame(student_info, columns=['ID', 'Processed Resume'])\n",
    "# df.head()"
   ]
  },
  {
   "cell_type": "code",
   "execution_count": 19,
   "id": "64b18d33",
   "metadata": {},
   "outputs": [],
   "source": [
    "#use the same techniques we used to train to train the model with student names and identites"
   ]
  },
  {
   "cell_type": "code",
   "execution_count": 20,
   "id": "f95b8116",
   "metadata": {},
   "outputs": [],
   "source": [
    "#Setting Up the Environment\n",
    "import re #For Preprocessing\n",
    "import pandas as pd #For Data Handling\n",
    "from time import time #To Time the Operations\n",
    "from collections import defaultdict #Use for word frequency\n",
    "\n",
    "import spacy #More Preprocessing\n",
    "\n",
    "import logging #Setting up the loggings to monitor gensim\n",
    "logging.basicConfig(format=\"%(levelname)s - %(asctime)s: %(message)s\", datefmt= '%H:%M:%S', level=logging.INFO)\n",
    "import multiprocessing\n",
    "\n",
    "from gensim.models import Word2Vec"
   ]
  },
  {
   "cell_type": "code",
   "execution_count": 21,
   "metadata": {},
   "outputs": [
    {
     "data": {
      "text/html": [
       "<div>\n",
       "<style scoped>\n",
       "    .dataframe tbody tr th:only-of-type {\n",
       "        vertical-align: middle;\n",
       "    }\n",
       "\n",
       "    .dataframe tbody tr th {\n",
       "        vertical-align: top;\n",
       "    }\n",
       "\n",
       "    .dataframe thead th {\n",
       "        text-align: right;\n",
       "    }\n",
       "</style>\n",
       "<table border=\"1\" class=\"dataframe\">\n",
       "  <thead>\n",
       "    <tr style=\"text-align: right;\">\n",
       "      <th></th>\n",
       "      <th>CandidateID</th>\n",
       "      <th>resume</th>\n",
       "      <th>cleaned_resume</th>\n",
       "    </tr>\n",
       "  </thead>\n",
       "  <tbody>\n",
       "    <tr>\n",
       "      <th>0</th>\n",
       "      <td>candidate_009</td>\n",
       "      <td>CutThroat Media  NLP analyst for user commen...</td>\n",
       "      <td></td>\n",
       "    </tr>\n",
       "    <tr>\n",
       "      <th>1</th>\n",
       "      <td>candidate_046</td>\n",
       "      <td>HOWARD GOODMAN  F R E S H E R  A N D  N L P ...</td>\n",
       "      <td></td>\n",
       "    </tr>\n",
       "    <tr>\n",
       "      <th>2</th>\n",
       "      <td>candidate_070</td>\n",
       "      <td>Publicis Sapient DATA PROGRAMMER, JAN 2019 -...</td>\n",
       "      <td></td>\n",
       "    </tr>\n",
       "    <tr>\n",
       "      <th>3</th>\n",
       "      <td>candidate_143</td>\n",
       "      <td>M A T T H E W  H O R R E S JUNIOR DEVELOPER ...</td>\n",
       "      <td></td>\n",
       "    </tr>\n",
       "  </tbody>\n",
       "</table>\n",
       "</div>"
      ],
      "text/plain": [
       "     CandidateID                                             resume  \\\n",
       "0  candidate_009    CutThroat Media  NLP analyst for user commen...   \n",
       "1  candidate_046    HOWARD GOODMAN  F R E S H E R  A N D  N L P ...   \n",
       "2  candidate_070    Publicis Sapient DATA PROGRAMMER, JAN 2019 -...   \n",
       "3  candidate_143    M A T T H E W  H O R R E S JUNIOR DEVELOPER ...   \n",
       "\n",
       "  cleaned_resume  \n",
       "0                 \n",
       "1                 \n",
       "2                 \n",
       "3                 "
      ]
     },
     "execution_count": 21,
     "metadata": {},
     "output_type": "execute_result"
    }
   ],
   "source": [
    "from tika import parser\n",
    "import os\n",
    "df = pd.DataFrame(columns=['CandidateID', 'resume', 'cleaned_resume'])\n",
    "for dirname , _, filenames in os.walk('test'):\n",
    "    for filename in filenames:\n",
    "       path = os.path.join(dirname, filename)\n",
    "       raw = parser.from_file(path)\n",
    "       df = df.append({'CandidateID' : filename[:-4], 'resume' : \" \".join(raw['content'].strip().split('\\n')[1:]), 'cleaned_resume' : \"\"}, \n",
    "                ignore_index = True)\n",
    "   \n",
    "df.shape\n",
    "df.head()"
   ]
  },
  {
   "cell_type": "code",
   "execution_count": 22,
   "metadata": {},
   "outputs": [],
   "source": [
    "def cleanResume(resumeText):\n",
    "    resumeText = re.sub('http\\S+\\s*', ' ', resumeText)  # remove URLs\n",
    "    resumeText = re.sub('RT|cc', ' ', resumeText)  # remove RT and cc\n",
    "    resumeText = re.sub('#\\S+', '', resumeText)  # remove hashtags\n",
    "    resumeText = re.sub('@\\S+', '  ', resumeText)  # remove mentions\n",
    "    resumeText = re.sub('[%s]' % re.escape(\"\"\"!\"#$%&'()*+,-./:;<=>?@[\\]^_`{|}~\"\"\"), ' ', resumeText)  # remove punctuations\n",
    "    resumeText = re.sub(r'[^\\x00-\\x7f]',r' ', resumeText) \n",
    "    resumeText = re.sub('\\s+', ' ', resumeText)  # remove extra whitespace\n",
    "    return resumeText"
   ]
  },
  {
   "cell_type": "code",
   "execution_count": 23,
   "metadata": {},
   "outputs": [
    {
     "data": {
      "text/html": [
       "<div>\n",
       "<style scoped>\n",
       "    .dataframe tbody tr th:only-of-type {\n",
       "        vertical-align: middle;\n",
       "    }\n",
       "\n",
       "    .dataframe tbody tr th {\n",
       "        vertical-align: top;\n",
       "    }\n",
       "\n",
       "    .dataframe thead th {\n",
       "        text-align: right;\n",
       "    }\n",
       "</style>\n",
       "<table border=\"1\" class=\"dataframe\">\n",
       "  <thead>\n",
       "    <tr style=\"text-align: right;\">\n",
       "      <th></th>\n",
       "      <th>CandidateID</th>\n",
       "      <th>cleaned_resume</th>\n",
       "    </tr>\n",
       "  </thead>\n",
       "  <tbody>\n",
       "    <tr>\n",
       "      <th>0</th>\n",
       "      <td>candidate_009</td>\n",
       "      <td>CutThroat Media NLP analyst for user comments...</td>\n",
       "    </tr>\n",
       "    <tr>\n",
       "      <th>1</th>\n",
       "      <td>candidate_046</td>\n",
       "      <td>HOWARD GOODMAN F R E S H E R A N D N L P E N ...</td>\n",
       "    </tr>\n",
       "    <tr>\n",
       "      <th>2</th>\n",
       "      <td>candidate_070</td>\n",
       "      <td>Publicis Sapient DATA PROGRAMMER JAN 2019 TIL...</td>\n",
       "    </tr>\n",
       "    <tr>\n",
       "      <th>3</th>\n",
       "      <td>candidate_143</td>\n",
       "      <td>M A T T H E W H O R R E S JUNIOR DEVELOPER WO...</td>\n",
       "    </tr>\n",
       "  </tbody>\n",
       "</table>\n",
       "</div>"
      ],
      "text/plain": [
       "     CandidateID                                     cleaned_resume\n",
       "0  candidate_009   CutThroat Media NLP analyst for user comments...\n",
       "1  candidate_046   HOWARD GOODMAN F R E S H E R A N D N L P E N ...\n",
       "2  candidate_070   Publicis Sapient DATA PROGRAMMER JAN 2019 TIL...\n",
       "3  candidate_143   M A T T H E W H O R R E S JUNIOR DEVELOPER WO..."
      ]
     },
     "execution_count": 23,
     "metadata": {},
     "output_type": "execute_result"
    }
   ],
   "source": [
    "df['cleaned_resume'] = df.resume.apply(lambda x: cleanResume(x))\n",
    "df = df.drop('resume', 1)\n",
    "df.shape\n",
    "df.head()"
   ]
  },
  {
   "cell_type": "code",
   "execution_count": 24,
   "metadata": {},
   "outputs": [],
   "source": [
    "nlp = spacy.load('en_core_web_sm', disable=['ner', 'parser']) # disabling Named Entity Recognition for speed\n",
    "\n",
    "def cleaning(doc):\n",
    "    # Lemmatizes and removes stopwords\n",
    "    # doc needs to be a spacy Doc object\n",
    "    txt = [token.lemma_ for token in doc if not token.is_stop]\n",
    "    # Word2Vec uses context words to learn the vector representation of a target word,\n",
    "    # if a sentence is only one or two words long,\n",
    "    # the benefit for the training is very small\n",
    "    if len(txt) > 2:\n",
    "        return ' '.join(txt)"
   ]
  },
  {
   "cell_type": "code",
   "execution_count": 25,
   "metadata": {},
   "outputs": [
    {
     "data": {
      "text/html": [
       "<div>\n",
       "<style scoped>\n",
       "    .dataframe tbody tr th:only-of-type {\n",
       "        vertical-align: middle;\n",
       "    }\n",
       "\n",
       "    .dataframe tbody tr th {\n",
       "        vertical-align: top;\n",
       "    }\n",
       "\n",
       "    .dataframe thead th {\n",
       "        text-align: right;\n",
       "    }\n",
       "</style>\n",
       "<table border=\"1\" class=\"dataframe\">\n",
       "  <thead>\n",
       "    <tr style=\"text-align: right;\">\n",
       "      <th></th>\n",
       "      <th>CandidateID</th>\n",
       "      <th>cleaned_resume</th>\n",
       "    </tr>\n",
       "  </thead>\n",
       "  <tbody>\n",
       "    <tr>\n",
       "      <th>0</th>\n",
       "      <td>candidate_009</td>\n",
       "      <td>CutThroat Media NLP analyst for user comments...</td>\n",
       "    </tr>\n",
       "    <tr>\n",
       "      <th>1</th>\n",
       "      <td>candidate_046</td>\n",
       "      <td>HOWARD GOODMAN F R E S H E R A N D N L P E N ...</td>\n",
       "    </tr>\n",
       "    <tr>\n",
       "      <th>2</th>\n",
       "      <td>candidate_070</td>\n",
       "      <td>Publicis Sapient DATA PROGRAMMER JAN 2019 TIL...</td>\n",
       "    </tr>\n",
       "    <tr>\n",
       "      <th>3</th>\n",
       "      <td>candidate_143</td>\n",
       "      <td>M A T T H E W H O R R E S JUNIOR DEVELOPER WO...</td>\n",
       "    </tr>\n",
       "  </tbody>\n",
       "</table>\n",
       "</div>"
      ],
      "text/plain": [
       "     CandidateID                                     cleaned_resume\n",
       "0  candidate_009   CutThroat Media NLP analyst for user comments...\n",
       "1  candidate_046   HOWARD GOODMAN F R E S H E R A N D N L P E N ...\n",
       "2  candidate_070   Publicis Sapient DATA PROGRAMMER JAN 2019 TIL...\n",
       "3  candidate_143   M A T T H E W H O R R E S JUNIOR DEVELOPER WO..."
      ]
     },
     "execution_count": 25,
     "metadata": {},
     "output_type": "execute_result"
    }
   ],
   "source": [
    "brief_cleaning = (re.sub(\"[^A-Za-z']+\", ' ', str(row)).lower() for row in df['cleaned_resume'])\n",
    "df.head()"
   ]
  },
  {
   "cell_type": "code",
   "execution_count": 26,
   "metadata": {},
   "outputs": [
    {
     "name": "stdout",
     "output_type": "stream",
     "text": [
      "Time to clean up everything: 0.0 mins\n"
     ]
    }
   ],
   "source": [
    "t = time()\n",
    "\n",
    "txt = [cleaning(doc) for doc in nlp.pipe(brief_cleaning, batch_size=5000)]\n",
    "\n",
    "print('Time to clean up everything: {} mins'.format(round((time() - t) / 60, 2)))"
   ]
  },
  {
   "cell_type": "code",
   "execution_count": 27,
   "metadata": {},
   "outputs": [
    {
     "data": {
      "text/html": [
       "<div>\n",
       "<style scoped>\n",
       "    .dataframe tbody tr th:only-of-type {\n",
       "        vertical-align: middle;\n",
       "    }\n",
       "\n",
       "    .dataframe tbody tr th {\n",
       "        vertical-align: top;\n",
       "    }\n",
       "\n",
       "    .dataframe thead th {\n",
       "        text-align: right;\n",
       "    }\n",
       "</style>\n",
       "<table border=\"1\" class=\"dataframe\">\n",
       "  <thead>\n",
       "    <tr style=\"text-align: right;\">\n",
       "      <th></th>\n",
       "      <th>CandidateID</th>\n",
       "      <th>clean</th>\n",
       "    </tr>\n",
       "  </thead>\n",
       "  <tbody>\n",
       "    <tr>\n",
       "      <th>0</th>\n",
       "      <td>candidate_009</td>\n",
       "      <td>cutthroat medium nlp analyst user comment ja...</td>\n",
       "    </tr>\n",
       "    <tr>\n",
       "      <th>1</th>\n",
       "      <td>candidate_046</td>\n",
       "      <td>howard goodman f r e s h e r n d n l p e n g...</td>\n",
       "    </tr>\n",
       "    <tr>\n",
       "      <th>2</th>\n",
       "      <td>candidate_070</td>\n",
       "      <td>publicis sapient datum programmer jan till d...</td>\n",
       "    </tr>\n",
       "    <tr>\n",
       "      <th>3</th>\n",
       "      <td>candidate_143</td>\n",
       "      <td>m t t h e w h o r r e s junior developer wor...</td>\n",
       "    </tr>\n",
       "  </tbody>\n",
       "</table>\n",
       "</div>"
      ],
      "text/plain": [
       "     CandidateID                                              clean\n",
       "0  candidate_009    cutthroat medium nlp analyst user comment ja...\n",
       "1  candidate_046    howard goodman f r e s h e r n d n l p e n g...\n",
       "2  candidate_070    publicis sapient datum programmer jan till d...\n",
       "3  candidate_143    m t t h e w h o r r e s junior developer wor..."
      ]
     },
     "execution_count": 27,
     "metadata": {},
     "output_type": "execute_result"
    }
   ],
   "source": [
    "df_clean = pd.DataFrame(columns=[\"CandidateID\", \"clean\"])\n",
    "df_clean = df[[\"CandidateID\"]].copy()\n",
    "df_clean['clean'] = pd.DataFrame({'clean': txt})\n",
    "df_clean = df_clean.dropna().drop_duplicates()\n",
    "df_clean.shape\n",
    "df_clean"
   ]
  },
  {
   "cell_type": "code",
   "execution_count": 28,
   "metadata": {},
   "outputs": [],
   "source": [
    "from gensim.models.phrases import Phrases, Phraser"
   ]
  },
  {
   "cell_type": "code",
   "execution_count": 29,
   "metadata": {},
   "outputs": [],
   "source": [
    "sent = [row.split() for row in df_clean['clean']]"
   ]
  },
  {
   "cell_type": "code",
   "execution_count": 30,
   "metadata": {},
   "outputs": [
    {
     "name": "stderr",
     "output_type": "stream",
     "text": [
      "INFO - 22:28:26: collecting all words and their counts\n",
      "INFO - 22:28:26: PROGRESS: at sentence #0, processed 0 words and 0 word types\n",
      "INFO - 22:28:26: collected 705 token types (unigram + bigrams) from a corpus of 460 words and 4 sentences\n",
      "INFO - 22:28:26: merged Phrases<705 vocab, min_count=5, threshold=10.0, max_vocab_size=40000000>\n",
      "INFO - 22:28:26: Phrases lifecycle event {'msg': 'built Phrases<705 vocab, min_count=5, threshold=10.0, max_vocab_size=40000000> in 0.00s', 'datetime': '2021-11-22T22:28:26.026024', 'gensim': '4.1.2', 'python': '3.8.8 (default, Apr 13 2021, 15:08:03) [MSC v.1916 64 bit (AMD64)]', 'platform': 'Windows-10-10.0.19041-SP0', 'event': 'created'}\n"
     ]
    }
   ],
   "source": [
    "phrases = Phrases(sent, min_count=5, progress_per=10000)"
   ]
  },
  {
   "cell_type": "code",
   "execution_count": 31,
   "metadata": {},
   "outputs": [
    {
     "name": "stderr",
     "output_type": "stream",
     "text": [
      "INFO - 22:28:26: exporting phrases from Phrases<705 vocab, min_count=5, threshold=10.0, max_vocab_size=40000000>\n",
      "INFO - 22:28:26: FrozenPhrases lifecycle event {'msg': 'exported FrozenPhrases<1 phrases, min_count=5, threshold=10.0> from Phrases<705 vocab, min_count=5, threshold=10.0, max_vocab_size=40000000> in 0.00s', 'datetime': '2021-11-22T22:28:26.070087', 'gensim': '4.1.2', 'python': '3.8.8 (default, Apr 13 2021, 15:08:03) [MSC v.1916 64 bit (AMD64)]', 'platform': 'Windows-10-10.0.19041-SP0', 'event': 'created'}\n"
     ]
    }
   ],
   "source": [
    "bigram = Phraser(phrases)"
   ]
  },
  {
   "cell_type": "code",
   "execution_count": 32,
   "metadata": {},
   "outputs": [
    {
     "name": "stdout",
     "output_type": "stream",
     "text": [
      "['howard', 'goodman', 'f', 'r', 'e', 's', 'h', 'e', 'r', 'n', 'd', 'n', 'l', 'p', 'e', 'n', 'g', 'n', 'e', 'e', 'r', 'professional', 'profile', 'fresher', 'absolutely', 'love', 'work', 'vaguely', 'relate', 'machine', 'learning', 'acquaint', 'state', 'art', 'nlp', 'model', 'like', 'bert', 'xlnet', 'gpt', 'work', 'datum', 'exploration', 'proficient', 'skill', 'machine_learn', 'natural', 'language', 'process', 'deep', 'learning', 'sentiment', 'analysis', 'python', 'nltk', 'gpt', 'xlnet', 'text', 'analysis', 'text', 'extraction', 'ocr', 'employment', 'history', 'nlp', 'development', 'team', 'take', 'build', 'different', 'pipeline', 'training', 'evaluation', 'different', 'textual', 'datum', 'nlp', 'developer', 'intern', 'apr', 'nov', 'zynta', 'lab', 'educational', 'history', 'b', 'tech', 'electrical', 'rajiv', 'gandhi', 'memorial', 'university', 'delhi', 'achievement', 'extra', 'curricular', 'tensorflow', 'kera', 'certify', 'project', 'embed', 'device', 'convert', 'asl', 'voice', 'vice', 'versa', 'real', 'time']\n"
     ]
    }
   ],
   "source": [
    "sentences = bigram[sent]\n",
    "print(sentences[1])"
   ]
  },
  {
   "cell_type": "code",
   "execution_count": 33,
   "metadata": {},
   "outputs": [
    {
     "data": {
      "text/plain": [
       "281"
      ]
     },
     "execution_count": 33,
     "metadata": {},
     "output_type": "execute_result"
    }
   ],
   "source": [
    "word_freq = defaultdict(int)\n",
    "for sent in sentences:\n",
    "    for i in sent:\n",
    "        word_freq[i] += 1\n",
    "len(word_freq)"
   ]
  },
  {
   "cell_type": "code",
   "execution_count": 34,
   "metadata": {},
   "outputs": [
    {
     "data": {
      "text/plain": [
       "['datum',\n",
       " 'work',\n",
       " 'nlp',\n",
       " 'machine_learn',\n",
       " 'python',\n",
       " 'project',\n",
       " 'r',\n",
       " 'e',\n",
       " 'skill',\n",
       " 'analysis']"
      ]
     },
     "execution_count": 34,
     "metadata": {},
     "output_type": "execute_result"
    }
   ],
   "source": [
    "sorted(word_freq, key=word_freq.get, reverse=True)[:10]"
   ]
  },
  {
   "cell_type": "code",
   "execution_count": 35,
   "metadata": {},
   "outputs": [],
   "source": [
    "import multiprocessing\n",
    "import gensim\n",
    "from gensim.models import Word2Vec\n",
    "from gensim.models.doc2vec import Doc2Vec, TaggedDocument"
   ]
  },
  {
   "cell_type": "code",
   "execution_count": 40,
   "metadata": {},
   "outputs": [
    {
     "name": "stderr",
     "output_type": "stream",
     "text": [
      "INFO - 22:45:50: collecting all words and their counts\n",
      "INFO - 22:45:50: PROGRESS: at example #0, processed 0 words (0/s), 0 word types, 0 tags\n",
      "INFO - 22:45:50: collected 281 word types and 4 unique tags from a corpus of 4 examples and 453 words\n",
      "INFO - 22:45:50: Creating a fresh vocabulary\n",
      "INFO - 22:45:50: Doc2Vec lifecycle event {'msg': 'effective_min_count=5 retains 11 unique words (3.9145907473309607%% of original 281, drops 270)', 'datetime': '2021-11-22T22:45:50.046780', 'gensim': '4.1.2', 'python': '3.8.8 (default, Apr 13 2021, 15:08:03) [MSC v.1916 64 bit (AMD64)]', 'platform': 'Windows-10-10.0.19041-SP0', 'event': 'prepare_vocab'}\n",
      "INFO - 22:45:50: Doc2Vec lifecycle event {'msg': 'effective_min_count=5 leaves 92 word corpus (20.309050772626932%% of original 453, drops 361)', 'datetime': '2021-11-22T22:45:50.047693', 'gensim': '4.1.2', 'python': '3.8.8 (default, Apr 13 2021, 15:08:03) [MSC v.1916 64 bit (AMD64)]', 'platform': 'Windows-10-10.0.19041-SP0', 'event': 'prepare_vocab'}\n",
      "INFO - 22:45:50: deleting the raw counts dictionary of 281 items\n",
      "INFO - 22:45:50: sample=0.001 downsamples 11 most-common words\n",
      "INFO - 22:45:50: Doc2Vec lifecycle event {'msg': 'downsampling leaves estimated 10.475915499883198 word corpus (11.4%% of prior 92)', 'datetime': '2021-11-22T22:45:50.048695', 'gensim': '4.1.2', 'python': '3.8.8 (default, Apr 13 2021, 15:08:03) [MSC v.1916 64 bit (AMD64)]', 'platform': 'Windows-10-10.0.19041-SP0', 'event': 'prepare_vocab'}\n",
      "INFO - 22:45:50: estimated required memory for 11 words and 30 dimensions: 9420 bytes\n",
      "INFO - 22:45:50: resetting layer weights\n",
      "INFO - 22:45:50: Doc2Vec lifecycle event {'msg': 'training model with 3 workers on 11 vocabulary and 30 features, using sg=1 hs=0 sample=0.001 negative=5 window=5 shrink_windows=True', 'datetime': '2021-11-22T22:45:50.049695', 'gensim': '4.1.2', 'python': '3.8.8 (default, Apr 13 2021, 15:08:03) [MSC v.1916 64 bit (AMD64)]', 'platform': 'Windows-10-10.0.19041-SP0', 'event': 'train'}\n",
      "INFO - 22:45:50: worker thread finished; awaiting finish of 2 more threads\n",
      "INFO - 22:45:50: worker thread finished; awaiting finish of 1 more threads\n",
      "INFO - 22:45:50: worker thread finished; awaiting finish of 0 more threads\n",
      "INFO - 22:45:50: EPOCH - 1 : training on 453 raw words (16 effective words) took 0.0s, 9303 effective words/s\n",
      "INFO - 22:45:50: worker thread finished; awaiting finish of 2 more threads\n",
      "INFO - 22:45:50: worker thread finished; awaiting finish of 1 more threads\n",
      "INFO - 22:45:50: worker thread finished; awaiting finish of 0 more threads\n",
      "INFO - 22:45:50: EPOCH - 2 : training on 453 raw words (14 effective words) took 0.0s, 11036 effective words/s\n",
      "INFO - 22:45:50: worker thread finished; awaiting finish of 2 more threads\n",
      "INFO - 22:45:50: worker thread finished; awaiting finish of 1 more threads\n",
      "INFO - 22:45:50: worker thread finished; awaiting finish of 0 more threads\n",
      "INFO - 22:45:50: EPOCH - 3 : training on 453 raw words (16 effective words) took 0.0s, 11437 effective words/s\n",
      "INFO - 22:45:50: worker thread finished; awaiting finish of 2 more threads\n",
      "INFO - 22:45:50: worker thread finished; awaiting finish of 1 more threads\n",
      "INFO - 22:45:50: worker thread finished; awaiting finish of 0 more threads\n",
      "INFO - 22:45:50: EPOCH - 4 : training on 453 raw words (13 effective words) took 0.0s, 10809 effective words/s\n",
      "INFO - 22:45:50: worker thread finished; awaiting finish of 2 more threads\n",
      "INFO - 22:45:50: worker thread finished; awaiting finish of 1 more threads\n",
      "INFO - 22:45:50: worker thread finished; awaiting finish of 0 more threads\n",
      "INFO - 22:45:50: EPOCH - 5 : training on 453 raw words (15 effective words) took 0.0s, 11659 effective words/s\n",
      "INFO - 22:45:50: worker thread finished; awaiting finish of 2 more threads\n",
      "INFO - 22:45:50: worker thread finished; awaiting finish of 1 more threads\n",
      "INFO - 22:45:50: worker thread finished; awaiting finish of 0 more threads\n",
      "INFO - 22:45:50: EPOCH - 6 : training on 453 raw words (20 effective words) took 0.0s, 15832 effective words/s\n",
      "INFO - 22:45:50: worker thread finished; awaiting finish of 2 more threads\n",
      "INFO - 22:45:50: worker thread finished; awaiting finish of 1 more threads\n",
      "INFO - 22:45:50: worker thread finished; awaiting finish of 0 more threads\n",
      "INFO - 22:45:50: EPOCH - 7 : training on 453 raw words (12 effective words) took 0.0s, 9868 effective words/s\n",
      "INFO - 22:45:50: worker thread finished; awaiting finish of 2 more threads\n",
      "INFO - 22:45:50: worker thread finished; awaiting finish of 1 more threads\n",
      "INFO - 22:45:50: worker thread finished; awaiting finish of 0 more threads\n",
      "INFO - 22:45:50: EPOCH - 8 : training on 453 raw words (11 effective words) took 0.0s, 10522 effective words/s\n",
      "INFO - 22:45:50: worker thread finished; awaiting finish of 2 more threads\n",
      "INFO - 22:45:50: worker thread finished; awaiting finish of 1 more threads\n",
      "INFO - 22:45:50: worker thread finished; awaiting finish of 0 more threads\n",
      "INFO - 22:45:50: EPOCH - 9 : training on 453 raw words (11 effective words) took 0.0s, 7276 effective words/s\n",
      "INFO - 22:45:50: worker thread finished; awaiting finish of 2 more threads\n",
      "INFO - 22:45:50: worker thread finished; awaiting finish of 1 more threads\n",
      "INFO - 22:45:50: worker thread finished; awaiting finish of 0 more threads\n",
      "INFO - 22:45:50: EPOCH - 10 : training on 453 raw words (12 effective words) took 0.0s, 8909 effective words/s\n",
      "INFO - 22:45:50: Doc2Vec lifecycle event {'msg': 'training on 4530 raw words (140 effective words) took 0.0s, 4494 effective words/s', 'datetime': '2021-11-22T22:45:50.081088', 'gensim': '4.1.2', 'python': '3.8.8 (default, Apr 13 2021, 15:08:03) [MSC v.1916 64 bit (AMD64)]', 'platform': 'Windows-10-10.0.19041-SP0', 'event': 'train'}\n",
      "INFO - 22:45:50: Doc2Vec lifecycle event {'params': 'Doc2Vec(dbow+w,d30,n5,w5,mc5,s0.001,t3)', 'datetime': '2021-11-22T22:45:50.082080', 'gensim': '4.1.2', 'python': '3.8.8 (default, Apr 13 2021, 15:08:03) [MSC v.1916 64 bit (AMD64)]', 'platform': 'Windows-10-10.0.19041-SP0', 'event': 'created'}\n"
     ]
    }
   ],
   "source": [
    "# model = Word2Vec.load('basemodel.bin')\n",
    "# model.min_count = 30\n",
    "# model.alpha = 0.02\n",
    "# model.window = 3\n",
    "\n",
    "# name = []\n",
    "# print(len(model.wv.vectors))\n",
    "# for i in df_clean.CandidateID:\n",
    "#     for j in range(30):\n",
    "#         name.append(i)\n",
    "\n",
    "#     name = bigram[name]\n",
    "#     model.build_vocab(name, update=True, progress_per=30)\n",
    "#     model.train(name, total_examples=name.count, epochs=30)\n",
    "#     name = []\n",
    "# print(len(model.wv.vectors))\n",
    "documents = [TaggedDocument(doc, tags=[df_clean.CandidateID[i]]) for i, doc in enumerate(sentences)]\n",
    "model = Doc2Vec(documents, dm = 0, dbow_words=1 , alpha=0.025, vector_size=30, min_alpha = 0.025, min_count = 5)"
   ]
  },
  {
   "cell_type": "code",
   "execution_count": 39,
   "metadata": {},
   "outputs": [
    {
     "name": "stderr",
     "output_type": "stream",
     "text": [
      "<ipython-input-39-b7ffa4c27039>:3: DeprecationWarning: Call to deprecated `docvecs` (The `docvecs` property has been renamed `dv`.).\n",
      "  sims = model.docvecs.most_similar([new_vec])\n"
     ]
    },
    {
     "data": {
      "text/plain": [
       "[('candidate_070', 0.2160046100616455),\n",
       " ('candidate_046', 0.11805310100317001),\n",
       " ('candidate_143', -0.22202491760253906),\n",
       " ('candidate_009', -0.22990497946739197)]"
      ]
     },
     "execution_count": 39,
     "metadata": {},
     "output_type": "execute_result"
    }
   ],
   "source": [
    "tokens = \"code\".split()\n",
    "new_vec = model.infer_vector(tokens)\n",
    "sims = model.docvecs.most_similar([new_vec])\n",
    "sims\n",
    "#model.wv.index_to_key"
   ]
  },
  {
   "cell_type": "code",
   "execution_count": 38,
   "id": "6ec36349",
   "metadata": {},
   "outputs": [
    {
     "data": {
      "text/plain": [
       "['candidate_009', 'candidate_046', 'candidate_070', 'candidate_143']"
      ]
     },
     "execution_count": 38,
     "metadata": {},
     "output_type": "execute_result"
    }
   ],
   "source": [
    "model.dv.index_to_key"
   ]
  }
 ],
 "metadata": {
  "interpreter": {
   "hash": "69653a312dbe931d74f7dcdd7e6244916ba6f541c5453c763d9189f9df467eeb"
  },
  "kernelspec": {
   "display_name": "Python 3.8.8 64-bit ('base': conda)",
   "name": "python3"
  },
  "language_info": {
   "codemirror_mode": {
    "name": "ipython",
    "version": 3
   },
   "file_extension": ".py",
   "mimetype": "text/x-python",
   "name": "python",
   "nbconvert_exporter": "python",
   "pygments_lexer": "ipython3",
   "version": "3.8.8"
  }
 },
 "nbformat": 4,
 "nbformat_minor": 5
}
